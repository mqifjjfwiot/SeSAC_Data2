{
  "nbformat": 4,
  "nbformat_minor": 0,
  "metadata": {
    "colab": {
      "name": "Vectorize-test.ipynb",
      "provenance": [],
      "collapsed_sections": [],
      "authorship_tag": "ABX9TyPbMsl63JId7EcBO0bXdTj6",
      "include_colab_link": true
    },
    "kernelspec": {
      "name": "python3",
      "display_name": "Python 3"
    },
    "language_info": {
      "name": "python"
    }
  },
  "cells": [
    {
      "cell_type": "markdown",
      "metadata": {
        "id": "view-in-github",
        "colab_type": "text"
      },
      "source": [
        "<a href=\"https://colab.research.google.com/github/mqifjjfwiot/SeSAC_Data2/blob/master/Vectorize_test.ipynb\" target=\"_parent\"><img src=\"https://colab.research.google.com/assets/colab-badge.svg\" alt=\"Open In Colab\"/></a>"
      ]
    },
    {
      "cell_type": "code",
      "execution_count": null,
      "metadata": {
        "id": "MelmT7_8x0R1"
      },
      "outputs": [],
      "source": [
        "from sklearn.feature_extraction.text import TfidfVectorizer, CountVectorizer"
      ]
    },
    {
      "cell_type": "code",
      "source": [
        "corpus = [\"you know I want your love\",\n",
        "          \"I like you\",\n",
        "          \"what should I do\",\n",
        "          \"I can't build it. Something's in the way\",\n",
        "          \"Roger that\",\n",
        "          \"This is crazy\",\n",
        "          \"This is your plan?\",\n",
        "          \"What? You run out of marines?\"\n",
        "]"
      ],
      "metadata": {
        "id": "leGa4u65ya5Q"
      },
      "execution_count": null,
      "outputs": []
    },
    {
      "cell_type": "code",
      "source": [
        "cv = CountVectorizer()"
      ],
      "metadata": {
        "id": "64ZILphTzZRE"
      },
      "execution_count": null,
      "outputs": []
    },
    {
      "cell_type": "code",
      "source": [
        "#1. 사전을 만들어라! => fit()\n",
        "#2. 사전에 들어있는 id로 인코딩하라! => transform()\n",
        "#3. 1, 2를 함께 처리하고자 하는 경우 => fit_transform()"
      ],
      "metadata": {
        "id": "9ODDpAmczc4o"
      },
      "execution_count": null,
      "outputs": []
    },
    {
      "cell_type": "code",
      "source": [
        "vd = cv.fit_transform(corpus).toarray()\n",
        "vd"
      ],
      "metadata": {
        "colab": {
          "base_uri": "https://localhost:8080/"
        },
        "id": "B1rc67e305pB",
        "outputId": "9cb8302b-d903-47c5-9165-2daae97443cb"
      },
      "execution_count": null,
      "outputs": [
        {
          "output_type": "execute_result",
          "data": {
            "text/plain": [
              "array([[0, 0, 0, 0, 0, 0, 0, 1, 0, 1, 0, 0, 0, 0, 0, 0, 0, 0, 0, 0, 0, 1,\n",
              "        0, 0, 1, 1],\n",
              "       [0, 0, 0, 0, 0, 0, 0, 0, 1, 0, 0, 0, 0, 0, 0, 0, 0, 0, 0, 0, 0, 0,\n",
              "        0, 0, 1, 0],\n",
              "       [0, 0, 0, 1, 0, 0, 0, 0, 0, 0, 0, 0, 0, 0, 0, 0, 1, 0, 0, 0, 0, 0,\n",
              "        0, 1, 0, 0],\n",
              "       [1, 1, 0, 0, 1, 0, 1, 0, 0, 0, 0, 0, 0, 0, 0, 0, 0, 1, 0, 1, 0, 0,\n",
              "        1, 0, 0, 0],\n",
              "       [0, 0, 0, 0, 0, 0, 0, 0, 0, 0, 0, 0, 0, 0, 1, 0, 0, 0, 1, 0, 0, 0,\n",
              "        0, 0, 0, 0],\n",
              "       [0, 0, 1, 0, 0, 1, 0, 0, 0, 0, 0, 0, 0, 0, 0, 0, 0, 0, 0, 0, 1, 0,\n",
              "        0, 0, 0, 0],\n",
              "       [0, 0, 0, 0, 0, 1, 0, 0, 0, 0, 0, 0, 0, 1, 0, 0, 0, 0, 0, 0, 1, 0,\n",
              "        0, 0, 0, 1],\n",
              "       [0, 0, 0, 0, 0, 0, 0, 0, 0, 0, 1, 1, 1, 0, 0, 1, 0, 0, 0, 0, 0, 0,\n",
              "        0, 1, 1, 0]])"
            ]
          },
          "metadata": {},
          "execution_count": 13
        }
      ]
    },
    {
      "cell_type": "code",
      "source": [
        "cv.inverse_transform(vd)"
      ],
      "metadata": {
        "colab": {
          "base_uri": "https://localhost:8080/"
        },
        "id": "LrSjXH8U2JFq",
        "outputId": "d117413e-d82f-4830-a24a-9411a322c260"
      },
      "execution_count": null,
      "outputs": [
        {
          "output_type": "execute_result",
          "data": {
            "text/plain": [
              "[array(['know', 'love', 'want', 'you', 'your'], dtype='<U9'),\n",
              " array(['like', 'you'], dtype='<U9'),\n",
              " array(['do', 'should', 'what'], dtype='<U9'),\n",
              " array(['build', 'can', 'in', 'it', 'something', 'the', 'way'], dtype='<U9'),\n",
              " array(['roger', 'that'], dtype='<U9'),\n",
              " array(['crazy', 'is', 'this'], dtype='<U9'),\n",
              " array(['is', 'plan', 'this', 'your'], dtype='<U9'),\n",
              " array(['marines', 'of', 'out', 'run', 'what', 'you'], dtype='<U9')]"
            ]
          },
          "metadata": {},
          "execution_count": 14
        }
      ]
    },
    {
      "cell_type": "code",
      "source": [
        "cv.get_feature_names()"
      ],
      "metadata": {
        "colab": {
          "base_uri": "https://localhost:8080/"
        },
        "id": "TBv4kjf12WdF",
        "outputId": "e531cf47-45da-4311-a32c-9ff259d53063"
      },
      "execution_count": null,
      "outputs": [
        {
          "output_type": "stream",
          "name": "stderr",
          "text": [
            "/usr/local/lib/python3.7/dist-packages/sklearn/utils/deprecation.py:87: FutureWarning: Function get_feature_names is deprecated; get_feature_names is deprecated in 1.0 and will be removed in 1.2. Please use get_feature_names_out instead.\n",
            "  warnings.warn(msg, category=FutureWarning)\n"
          ]
        },
        {
          "output_type": "execute_result",
          "data": {
            "text/plain": [
              "['build',\n",
              " 'can',\n",
              " 'crazy',\n",
              " 'do',\n",
              " 'in',\n",
              " 'is',\n",
              " 'it',\n",
              " 'know',\n",
              " 'like',\n",
              " 'love',\n",
              " 'marines',\n",
              " 'of',\n",
              " 'out',\n",
              " 'plan',\n",
              " 'roger',\n",
              " 'run',\n",
              " 'should',\n",
              " 'something',\n",
              " 'that',\n",
              " 'the',\n",
              " 'this',\n",
              " 'want',\n",
              " 'way',\n",
              " 'what',\n",
              " 'you',\n",
              " 'your']"
            ]
          },
          "metadata": {},
          "execution_count": 15
        }
      ]
    },
    {
      "cell_type": "code",
      "source": [
        "tfidf= TfidfVectorizer()"
      ],
      "metadata": {
        "id": "vQepnn4701Xb"
      },
      "execution_count": null,
      "outputs": []
    },
    {
      "cell_type": "code",
      "source": [
        "# fit-->transform"
      ],
      "metadata": {
        "id": "EgZSCE0C18f5"
      },
      "execution_count": null,
      "outputs": []
    },
    {
      "cell_type": "code",
      "source": [
        "tfidf.fit(corpus)"
      ],
      "metadata": {
        "colab": {
          "base_uri": "https://localhost:8080/"
        },
        "id": "vG5need02jWz",
        "outputId": "23cf76db-e43b-4960-c8c2-06877c1887c3"
      },
      "execution_count": null,
      "outputs": [
        {
          "output_type": "execute_result",
          "data": {
            "text/plain": [
              "TfidfVectorizer()"
            ]
          },
          "metadata": {},
          "execution_count": 17
        }
      ]
    },
    {
      "cell_type": "code",
      "source": [
        "tfidf.transform(corpus)"
      ],
      "metadata": {
        "colab": {
          "base_uri": "https://localhost:8080/"
        },
        "id": "DxMXJbg62_ia",
        "outputId": "fa172350-1a4b-4f54-9d20-7d9ea6101480"
      },
      "execution_count": null,
      "outputs": [
        {
          "output_type": "execute_result",
          "data": {
            "text/plain": [
              "<8x26 sparse matrix of type '<class 'numpy.float64'>'\n",
              "\twith 32 stored elements in Compressed Sparse Row format>"
            ]
          },
          "metadata": {},
          "execution_count": 19
        }
      ]
    },
    {
      "cell_type": "code",
      "source": [
        "tfidf.transform(corpus).toarray()"
      ],
      "metadata": {
        "colab": {
          "base_uri": "https://localhost:8080/"
        },
        "id": "WDKjzAn02nQX",
        "outputId": "a863f7d3-c397-4219-891f-6029c914d417"
      },
      "execution_count": null,
      "outputs": [
        {
          "output_type": "execute_result",
          "data": {
            "text/plain": [
              "array([[0.        , 0.        , 0.        , 0.        , 0.        ,\n",
              "        0.        , 0.        , 0.48648224, 0.        , 0.48648224,\n",
              "        0.        , 0.        , 0.        , 0.        , 0.        ,\n",
              "        0.        , 0.        , 0.        , 0.        , 0.        ,\n",
              "        0.        , 0.48648224, 0.        , 0.        , 0.35182035,\n",
              "        0.40771009],\n",
              "       [0.        , 0.        , 0.        , 0.        , 0.        ,\n",
              "        0.        , 0.        , 0.        , 0.81030585, 0.        ,\n",
              "        0.        , 0.        , 0.        , 0.        , 0.        ,\n",
              "        0.        , 0.        , 0.        , 0.        , 0.        ,\n",
              "        0.        , 0.        , 0.        , 0.        , 0.58600719,\n",
              "        0.        ],\n",
              "       [0.        , 0.        , 0.        , 0.60831315, 0.        ,\n",
              "        0.        , 0.        , 0.        , 0.        , 0.        ,\n",
              "        0.        , 0.        , 0.        , 0.        , 0.        ,\n",
              "        0.        , 0.60831315, 0.        , 0.        , 0.        ,\n",
              "        0.        , 0.        , 0.        , 0.5098139 , 0.        ,\n",
              "        0.        ],\n",
              "       [0.37796447, 0.37796447, 0.        , 0.        , 0.37796447,\n",
              "        0.        , 0.37796447, 0.        , 0.        , 0.        ,\n",
              "        0.        , 0.        , 0.        , 0.        , 0.        ,\n",
              "        0.        , 0.        , 0.37796447, 0.        , 0.37796447,\n",
              "        0.        , 0.        , 0.37796447, 0.        , 0.        ,\n",
              "        0.        ],\n",
              "       [0.        , 0.        , 0.        , 0.        , 0.        ,\n",
              "        0.        , 0.        , 0.        , 0.        , 0.        ,\n",
              "        0.        , 0.        , 0.        , 0.        , 0.70710678,\n",
              "        0.        , 0.        , 0.        , 0.70710678, 0.        ,\n",
              "        0.        , 0.        , 0.        , 0.        , 0.        ,\n",
              "        0.        ],\n",
              "       [0.        , 0.        , 0.64485945, 0.        , 0.        ,\n",
              "        0.54044255, 0.        , 0.        , 0.        , 0.        ,\n",
              "        0.        , 0.        , 0.        , 0.        , 0.        ,\n",
              "        0.        , 0.        , 0.        , 0.        , 0.        ,\n",
              "        0.54044255, 0.        , 0.        , 0.        , 0.        ,\n",
              "        0.        ],\n",
              "       [0.        , 0.        , 0.        , 0.        , 0.        ,\n",
              "        0.47545032, 0.        , 0.        , 0.        , 0.        ,\n",
              "        0.        , 0.        , 0.        , 0.56731031, 0.        ,\n",
              "        0.        , 0.        , 0.        , 0.        , 0.        ,\n",
              "        0.47545032, 0.        , 0.        , 0.        , 0.        ,\n",
              "        0.47545032],\n",
              "       [0.        , 0.        , 0.        , 0.        , 0.        ,\n",
              "        0.        , 0.        , 0.        , 0.        , 0.        ,\n",
              "        0.43746263, 0.43746263, 0.43746263, 0.        , 0.        ,\n",
              "        0.43746263, 0.        , 0.        , 0.        , 0.        ,\n",
              "        0.        , 0.        , 0.        , 0.36662783, 0.31636974,\n",
              "        0.        ]])"
            ]
          },
          "metadata": {},
          "execution_count": 18
        }
      ]
    },
    {
      "cell_type": "code",
      "source": [
        "sentence = [\"I like like like marines\"]"
      ],
      "metadata": {
        "id": "iJGOES8Q217P"
      },
      "execution_count": null,
      "outputs": []
    },
    {
      "cell_type": "code",
      "source": [
        "nd2array = cv.transform(sentence).toarray()\n",
        "nd2array"
      ],
      "metadata": {
        "colab": {
          "base_uri": "https://localhost:8080/"
        },
        "id": "toeEWYQp3Lbb",
        "outputId": "9d101e4e-e412-4716-8c93-4d627bf9ded8"
      },
      "execution_count": null,
      "outputs": [
        {
          "output_type": "execute_result",
          "data": {
            "text/plain": [
              "array([[0, 0, 0, 0, 0, 0, 0, 0, 3, 0, 1, 0, 0, 0, 0, 0, 0, 0, 0, 0, 0, 0,\n",
              "        0, 0, 0, 0]])"
            ]
          },
          "metadata": {},
          "execution_count": 23
        }
      ]
    },
    {
      "cell_type": "code",
      "source": [
        "nd2array[0]"
      ],
      "metadata": {
        "colab": {
          "base_uri": "https://localhost:8080/"
        },
        "id": "7DZWezfN3UO3",
        "outputId": "b92696dc-e9d1-40a0-add8-66d3705a4841"
      },
      "execution_count": null,
      "outputs": [
        {
          "output_type": "execute_result",
          "data": {
            "text/plain": [
              "array([0, 0, 0, 0, 0, 0, 0, 0, 3, 0, 1, 0, 0, 0, 0, 0, 0, 0, 0, 0, 0, 0,\n",
              "       0, 0, 0, 0])"
            ]
          },
          "metadata": {},
          "execution_count": 24
        }
      ]
    },
    {
      "cell_type": "code",
      "source": [
        "nd2array[0][8]"
      ],
      "metadata": {
        "colab": {
          "base_uri": "https://localhost:8080/"
        },
        "id": "UajlxFRS3gg2",
        "outputId": "c6e658cf-cc5f-4a89-bea6-0aef3e2ed35a"
      },
      "execution_count": null,
      "outputs": [
        {
          "output_type": "execute_result",
          "data": {
            "text/plain": [
              "3"
            ]
          },
          "metadata": {},
          "execution_count": 26
        }
      ]
    },
    {
      "cell_type": "code",
      "source": [
        "nd2array2 = tfidf.transform(sentence).toarray()\n",
        "nd2array2"
      ],
      "metadata": {
        "colab": {
          "base_uri": "https://localhost:8080/"
        },
        "id": "XyuJfV4a3jNn",
        "outputId": "cc7fe196-cc34-43b0-a774-0ac56869006f"
      },
      "execution_count": null,
      "outputs": [
        {
          "output_type": "execute_result",
          "data": {
            "text/plain": [
              "array([[0.        , 0.        , 0.        , 0.        , 0.        ,\n",
              "        0.        , 0.        , 0.        , 0.9486833 , 0.        ,\n",
              "        0.31622777, 0.        , 0.        , 0.        , 0.        ,\n",
              "        0.        , 0.        , 0.        , 0.        , 0.        ,\n",
              "        0.        , 0.        , 0.        , 0.        , 0.        ,\n",
              "        0.        ]])"
            ]
          },
          "metadata": {},
          "execution_count": 27
        }
      ]
    },
    {
      "cell_type": "code",
      "source": [
        "cv.inverse_transform(nd2array)"
      ],
      "metadata": {
        "colab": {
          "base_uri": "https://localhost:8080/"
        },
        "id": "i6Lat44D4OcX",
        "outputId": "1b14533e-7c2d-405b-9480-988aa9e62976"
      },
      "execution_count": null,
      "outputs": [
        {
          "output_type": "execute_result",
          "data": {
            "text/plain": [
              "[array(['like', 'marines'], dtype='<U9')]"
            ]
          },
          "metadata": {},
          "execution_count": 28
        }
      ]
    },
    {
      "cell_type": "code",
      "source": [
        "tfidf.inverse_transform(nd2array2)"
      ],
      "metadata": {
        "colab": {
          "base_uri": "https://localhost:8080/"
        },
        "id": "dRWoJR9m4TR2",
        "outputId": "1993f911-c583-4a32-aa01-df6451b39e38"
      },
      "execution_count": null,
      "outputs": [
        {
          "output_type": "execute_result",
          "data": {
            "text/plain": [
              "[array(['like', 'marines'], dtype='<U9')]"
            ]
          },
          "metadata": {},
          "execution_count": 29
        }
      ]
    },
    {
      "cell_type": "code",
      "source": [
        "feature_list = cv.get_feature_names()\n",
        "feature_list"
      ],
      "metadata": {
        "colab": {
          "base_uri": "https://localhost:8080/"
        },
        "id": "KUT4bxgC4WpN",
        "outputId": "84735e58-e937-401c-a30d-16e9490e0820"
      },
      "execution_count": null,
      "outputs": [
        {
          "output_type": "stream",
          "name": "stderr",
          "text": [
            "/usr/local/lib/python3.7/dist-packages/sklearn/utils/deprecation.py:87: FutureWarning: Function get_feature_names is deprecated; get_feature_names is deprecated in 1.0 and will be removed in 1.2. Please use get_feature_names_out instead.\n",
            "  warnings.warn(msg, category=FutureWarning)\n"
          ]
        },
        {
          "output_type": "execute_result",
          "data": {
            "text/plain": [
              "['build',\n",
              " 'can',\n",
              " 'crazy',\n",
              " 'do',\n",
              " 'in',\n",
              " 'is',\n",
              " 'it',\n",
              " 'know',\n",
              " 'like',\n",
              " 'love',\n",
              " 'marines',\n",
              " 'of',\n",
              " 'out',\n",
              " 'plan',\n",
              " 'roger',\n",
              " 'run',\n",
              " 'should',\n",
              " 'something',\n",
              " 'that',\n",
              " 'the',\n",
              " 'this',\n",
              " 'want',\n",
              " 'way',\n",
              " 'what',\n",
              " 'you',\n",
              " 'your']"
            ]
          },
          "metadata": {},
          "execution_count": 31
        }
      ]
    },
    {
      "cell_type": "code",
      "source": [
        "# dic <-- list\n",
        "dictionary = dict()"
      ],
      "metadata": {
        "id": "0XkUQXkp4mhl"
      },
      "execution_count": null,
      "outputs": []
    },
    {
      "cell_type": "code",
      "source": [
        "for index, element in enumerate(feature_list):\n",
        "  dictionary[index] = element\n",
        "dictionary"
      ],
      "metadata": {
        "colab": {
          "base_uri": "https://localhost:8080/"
        },
        "id": "DUHYcaCN4_Sq",
        "outputId": "ec900095-f19a-47aa-d106-6705b1fc040b"
      },
      "execution_count": null,
      "outputs": [
        {
          "output_type": "execute_result",
          "data": {
            "text/plain": [
              "{0: 'build',\n",
              " 1: 'can',\n",
              " 2: 'crazy',\n",
              " 3: 'do',\n",
              " 4: 'in',\n",
              " 5: 'is',\n",
              " 6: 'it',\n",
              " 7: 'know',\n",
              " 8: 'like',\n",
              " 9: 'love',\n",
              " 10: 'marines',\n",
              " 11: 'of',\n",
              " 12: 'out',\n",
              " 13: 'plan',\n",
              " 14: 'roger',\n",
              " 15: 'run',\n",
              " 16: 'should',\n",
              " 17: 'something',\n",
              " 18: 'that',\n",
              " 19: 'the',\n",
              " 20: 'this',\n",
              " 21: 'want',\n",
              " 22: 'way',\n",
              " 23: 'what',\n",
              " 24: 'you',\n",
              " 25: 'your'}"
            ]
          },
          "metadata": {},
          "execution_count": 34
        }
      ]
    },
    {
      "cell_type": "code",
      "source": [
        "## 스팸을 나타내는 사전 만들기\n",
        "## 스팸이 아닌 사전 만들기"
      ],
      "metadata": {
        "id": "qtOWx2C46Pif"
      },
      "execution_count": null,
      "outputs": []
    },
    {
      "cell_type": "code",
      "source": [
        "## 광고!! 짱 좋은 판매 홍보전략입니다.!! => 스팸입니다.!!"
      ],
      "metadata": {
        "id": "6uqy6hxy6-xW"
      },
      "execution_count": null,
      "outputs": []
    },
    {
      "cell_type": "code",
      "source": [
        "spam_dict = [\"광고\",\"특별\",\"홍보\",\"절호\",\"당신만의\",\"폭탄\",\"충격\",\"세일\",\"효능\",\"허경영\",\"특가\",\"한정\"]"
      ],
      "metadata": {
        "id": "1SE9FVBeACG3"
      },
      "execution_count": null,
      "outputs": []
    },
    {
      "cell_type": "code",
      "source": [
        "ham_dict= [\"주문\",\"확인\",\"결제\",\"검토\",\"고객\",\"배송\",\"일반\",\"동호회\"]"
      ],
      "metadata": {
        "id": "R4Kz30k0Ak5B"
      },
      "execution_count": null,
      "outputs": []
    },
    {
      "cell_type": "code",
      "source": [
        "email = [\"광고 !! 짱 좋은 판매 홍보 전략입니다.!!\"]"
      ],
      "metadata": {
        "id": "SlX498EF_TOZ"
      },
      "execution_count": null,
      "outputs": []
    },
    {
      "cell_type": "code",
      "source": [
        "cv.fit(spam_dict)\n",
        "cv.vocabulary_"
      ],
      "metadata": {
        "colab": {
          "base_uri": "https://localhost:8080/"
        },
        "id": "ecx6D6-Z_JeK",
        "outputId": "bd6ab03b-3655-4443-d925-315d0612314d"
      },
      "execution_count": null,
      "outputs": [
        {
          "output_type": "execute_result",
          "data": {
            "text/plain": [
              "{'광고': 0,\n",
              " '당신만의': 1,\n",
              " '세일': 2,\n",
              " '절호': 3,\n",
              " '충격': 4,\n",
              " '특가': 5,\n",
              " '특별': 6,\n",
              " '폭탄': 7,\n",
              " '한정': 8,\n",
              " '허경영': 9,\n",
              " '홍보': 10,\n",
              " '효능': 11}"
            ]
          },
          "metadata": {},
          "execution_count": 73
        }
      ]
    },
    {
      "cell_type": "code",
      "source": [
        "cv.transform(email).toarray()"
      ],
      "metadata": {
        "colab": {
          "base_uri": "https://localhost:8080/"
        },
        "id": "hq1BbLKpDELT",
        "outputId": "86f86f54-d252-4873-c2d6-c5b5e3c4622c"
      },
      "execution_count": null,
      "outputs": [
        {
          "output_type": "execute_result",
          "data": {
            "text/plain": [
              "array([[1, 0, 0, 0, 0, 0, 0, 0, 0, 0, 1, 0]])"
            ]
          },
          "metadata": {},
          "execution_count": 75
        }
      ]
    },
    {
      "cell_type": "code",
      "source": [
        "cv.fit(ham_dict)\n",
        "cv.vocabulary_"
      ],
      "metadata": {
        "colab": {
          "base_uri": "https://localhost:8080/"
        },
        "id": "VJmckCSyDN_L",
        "outputId": "7a47a082-bcb8-45ad-ae9f-62b7d49e3eac"
      },
      "execution_count": null,
      "outputs": [
        {
          "output_type": "execute_result",
          "data": {
            "text/plain": [
              "{'검토': 0, '결제': 1, '고객': 2, '동호회': 3, '배송': 4, '일반': 5, '주문': 6, '확인': 7}"
            ]
          },
          "metadata": {},
          "execution_count": 76
        }
      ]
    },
    {
      "cell_type": "code",
      "source": [
        "cv.transform(email).toarray()"
      ],
      "metadata": {
        "colab": {
          "base_uri": "https://localhost:8080/"
        },
        "id": "65HmFuOMDOEO",
        "outputId": "5e47a241-2277-4b3b-917c-b2b48953ecde"
      },
      "execution_count": null,
      "outputs": [
        {
          "output_type": "execute_result",
          "data": {
            "text/plain": [
              "array([[0, 0, 0, 0, 0, 0, 0, 0]])"
            ]
          },
          "metadata": {},
          "execution_count": 77
        }
      ]
    },
    {
      "cell_type": "code",
      "source": [
        "ham_fit = cv.fit(ham_dict)"
      ],
      "metadata": {
        "id": "sAE90cYwBpMM"
      },
      "execution_count": null,
      "outputs": []
    },
    {
      "cell_type": "code",
      "source": [
        "email_transform_array = spam_fit.transform(email).toarray()\n",
        "email_transform_array"
      ],
      "metadata": {
        "colab": {
          "base_uri": "https://localhost:8080/"
        },
        "id": "RqWf2ekC_otp",
        "outputId": "431f8e39-3d0e-4931-c35e-29b5366a01fd"
      },
      "execution_count": null,
      "outputs": [
        {
          "output_type": "execute_result",
          "data": {
            "text/plain": [
              "array([[0, 0, 0, 0, 0, 0, 0, 0]])"
            ]
          },
          "metadata": {},
          "execution_count": 63
        }
      ]
    },
    {
      "cell_type": "code",
      "source": [
        "email_ham_array = ham_fit.transform(email).toarray()\n",
        "email_ham_array"
      ],
      "metadata": {
        "colab": {
          "base_uri": "https://localhost:8080/"
        },
        "id": "EabHoi_9_2hN",
        "outputId": "7df4b28d-06a8-4187-bb3a-155ea3a74bcb"
      },
      "execution_count": null,
      "outputs": [
        {
          "output_type": "execute_result",
          "data": {
            "text/plain": [
              "array([[0, 0, 0, 0, 0, 0, 0, 0]])"
            ]
          },
          "metadata": {},
          "execution_count": 64
        }
      ]
    },
    {
      "cell_type": "code",
      "source": [
        "#영어로"
      ],
      "metadata": {
        "id": "GEv_i0iDAvBQ"
      },
      "execution_count": null,
      "outputs": []
    },
    {
      "cell_type": "code",
      "source": [
        "spam_dict2 = [\"advertise\", \"promotion\", \"sales\", \"hu\", \"special\", \"sale\",\"member\", \"company\"]\n",
        "ham_dict2 = [\"order\", \"confirm\", \"check\", \"customer\", \"payment\", \"send\", \"general\", \"club\"]"
      ],
      "metadata": {
        "id": "iKRpbvifAzUc"
      },
      "execution_count": null,
      "outputs": []
    },
    {
      "cell_type": "code",
      "source": [
        "email = [\"promotion !! hu good sales sale check payment\"]"
      ],
      "metadata": {
        "id": "8k079rKuCmHR"
      },
      "execution_count": null,
      "outputs": []
    },
    {
      "cell_type": "code",
      "source": [
        "cv.fit(spam_dict2)"
      ],
      "metadata": {
        "colab": {
          "base_uri": "https://localhost:8080/"
        },
        "id": "pHQLaNC6BH21",
        "outputId": "96d52bff-a7ac-4807-e9ea-e5b69646330c"
      },
      "execution_count": null,
      "outputs": [
        {
          "output_type": "execute_result",
          "data": {
            "text/plain": [
              "CountVectorizer()"
            ]
          },
          "metadata": {},
          "execution_count": 83
        }
      ]
    },
    {
      "cell_type": "code",
      "source": [
        "cv.vocabulary_"
      ],
      "metadata": {
        "colab": {
          "base_uri": "https://localhost:8080/"
        },
        "id": "8EeZnljYCOpb",
        "outputId": "55ae1843-a076-4734-fd3c-4e71d3333dc9"
      },
      "execution_count": null,
      "outputs": [
        {
          "output_type": "execute_result",
          "data": {
            "text/plain": [
              "{'advertise': 0,\n",
              " 'company': 1,\n",
              " 'hu': 2,\n",
              " 'member': 3,\n",
              " 'promotion': 4,\n",
              " 'sale': 5,\n",
              " 'sales': 6,\n",
              " 'special': 7}"
            ]
          },
          "metadata": {},
          "execution_count": 84
        }
      ]
    },
    {
      "cell_type": "code",
      "source": [
        "result1 = cv.transform(email).toarray()\n",
        "result1"
      ],
      "metadata": {
        "colab": {
          "base_uri": "https://localhost:8080/"
        },
        "id": "UnwCA_VzCboZ",
        "outputId": "c597b4d6-1a2c-4b8d-a9c2-63e354efe7eb"
      },
      "execution_count": null,
      "outputs": [
        {
          "output_type": "execute_result",
          "data": {
            "text/plain": [
              "array([[0, 0, 1, 0, 1, 1, 1, 0]])"
            ]
          },
          "metadata": {},
          "execution_count": 85
        }
      ]
    },
    {
      "cell_type": "code",
      "source": [
        "cv.fit(ham_dict2)\n",
        "cv.vocabulary_"
      ],
      "metadata": {
        "colab": {
          "base_uri": "https://localhost:8080/"
        },
        "id": "-qA81KM3Cug1",
        "outputId": "1ed01c97-cb00-4694-c5af-e4d696284166"
      },
      "execution_count": null,
      "outputs": [
        {
          "output_type": "execute_result",
          "data": {
            "text/plain": [
              "{'check': 0,\n",
              " 'club': 1,\n",
              " 'confirm': 2,\n",
              " 'customer': 3,\n",
              " 'general': 4,\n",
              " 'order': 5,\n",
              " 'payment': 6,\n",
              " 'send': 7}"
            ]
          },
          "metadata": {},
          "execution_count": 86
        }
      ]
    },
    {
      "cell_type": "code",
      "source": [
        "result2 = cv.transform(email).toarray()\n",
        "result2"
      ],
      "metadata": {
        "colab": {
          "base_uri": "https://localhost:8080/"
        },
        "id": "oNJh4KlmCz0p",
        "outputId": "5ec5ee81-20c0-4825-f0ed-3f0c5a3d9f6c"
      },
      "execution_count": null,
      "outputs": [
        {
          "output_type": "execute_result",
          "data": {
            "text/plain": [
              "array([[1, 0, 0, 0, 0, 0, 1, 0]])"
            ]
          },
          "metadata": {},
          "execution_count": 87
        }
      ]
    },
    {
      "cell_type": "code",
      "source": [
        "## result1의 0이 아닌 개수의 합, result2의 0이 아닌 개수의 합\n",
        "result1.sum() #모든 리스트의 합"
      ],
      "metadata": {
        "colab": {
          "base_uri": "https://localhost:8080/"
        },
        "id": "Bwm1iXitDz9p",
        "outputId": "4f7871c7-048f-4b2e-a03a-2498dd82c3c3"
      },
      "execution_count": null,
      "outputs": [
        {
          "output_type": "execute_result",
          "data": {
            "text/plain": [
              "4"
            ]
          },
          "metadata": {},
          "execution_count": 88
        }
      ]
    },
    {
      "cell_type": "code",
      "source": [
        "result2.sum()"
      ],
      "metadata": {
        "colab": {
          "base_uri": "https://localhost:8080/"
        },
        "id": "6gTjBO75ERn-",
        "outputId": "582c1405-9e4f-4171-8cd8-d6a5048b8844"
      },
      "execution_count": null,
      "outputs": [
        {
          "output_type": "execute_result",
          "data": {
            "text/plain": [
              "2"
            ]
          },
          "metadata": {},
          "execution_count": 89
        }
      ]
    },
    {
      "cell_type": "code",
      "source": [
        "result_sum = 0\n",
        "for item in result1[0]:\n",
        "  if item!=0:\n",
        "    result_sum = result_sum+1\n",
        "result_sum"
      ],
      "metadata": {
        "colab": {
          "base_uri": "https://localhost:8080/"
        },
        "id": "lYQBiypDEtwZ",
        "outputId": "2fdc17db-150f-4508-eab6-0d92aefba76a"
      },
      "execution_count": null,
      "outputs": [
        {
          "output_type": "execute_result",
          "data": {
            "text/plain": [
              "4"
            ]
          },
          "metadata": {},
          "execution_count": 90
        }
      ]
    },
    {
      "cell_type": "code",
      "source": [
        "#감정분류기 연습\n",
        "# 긍정/부정 사전\n",
        "# input() 이용해서, 문장을 받으면 긍정인가 부정인가 판단하기\n",
        "# tf-idf vectorizer 사용"
      ],
      "metadata": {
        "id": "RwjXxZb6C2R7"
      },
      "execution_count": null,
      "outputs": []
    },
    {
      "cell_type": "code",
      "source": [
        "pos_dict = [\"좋아요\", \"추천\", \"굿\", \"괜찮다\", \"재구매\", \"싸다\", \"친절\"]\n",
        "neg_dict = [\"별로\", \"그닥\", \"비싸다\", \"비추\", \"안\", \"장난\", \"실망\"]"
      ],
      "metadata": {
        "id": "MajrDBDDHUVN"
      },
      "execution_count": null,
      "outputs": []
    },
    {
      "cell_type": "code",
      "source": [
        "#example = [\"굿 굿 재구매 의향 있습니다. 추천할 만 해요.\"]\n",
        "example = input(\"리뷰 입력 : \")"
      ],
      "metadata": {
        "id": "uPTTHETkIf2F"
      },
      "execution_count": null,
      "outputs": []
    },
    {
      "cell_type": "code",
      "source": [
        "tfidf1= TfidfVectorizer()\n",
        "tfidf2= TfidfVectorizer()"
      ],
      "metadata": {
        "id": "h5siEHKAIuer"
      },
      "execution_count": null,
      "outputs": []
    },
    {
      "cell_type": "code",
      "source": [
        "fitp = tfidf1.fit(pos_dict)\n",
        "fitn = tfidf2.fit(neg_dict)"
      ],
      "metadata": {
        "id": "amnmKYZ-M4HM"
      },
      "execution_count": null,
      "outputs": []
    },
    {
      "cell_type": "code",
      "source": [
        "nndarray = tfidf1.transform(example).toarray()\n",
        "nndarray"
      ],
      "metadata": {
        "colab": {
          "base_uri": "https://localhost:8080/"
        },
        "id": "_cnI-YtpI03n",
        "outputId": "0f50af39-a496-4f00-bcb8-f20b185d9f2d"
      },
      "execution_count": null,
      "outputs": [
        {
          "output_type": "execute_result",
          "data": {
            "text/plain": [
              "array([[0., 0., 1., 0., 0., 0.]])"
            ]
          },
          "metadata": {},
          "execution_count": 114
        }
      ]
    },
    {
      "cell_type": "code",
      "source": [
        "nndarray2 = tfidf2.transform(example).toarray()\n",
        "nndarray2"
      ],
      "metadata": {
        "colab": {
          "base_uri": "https://localhost:8080/"
        },
        "id": "Qa5RCH9KNNo4",
        "outputId": "70f30719-c9ad-4b46-e1b2-e3f30d81be34"
      },
      "execution_count": null,
      "outputs": [
        {
          "output_type": "execute_result",
          "data": {
            "text/plain": [
              "array([[0., 0., 0., 0., 0., 0.]])"
            ]
          },
          "metadata": {},
          "execution_count": 115
        }
      ]
    },
    {
      "cell_type": "code",
      "source": [
        "tfidf1.inverse_transform(nndarray)"
      ],
      "metadata": {
        "colab": {
          "base_uri": "https://localhost:8080/"
        },
        "id": "YG5AWfn2I9po",
        "outputId": "b67d190d-253a-4558-d665-a8b2ec976777"
      },
      "execution_count": null,
      "outputs": [
        {
          "output_type": "execute_result",
          "data": {
            "text/plain": [
              "[array(['재구매'], dtype='<U3')]"
            ]
          },
          "metadata": {},
          "execution_count": 116
        }
      ]
    },
    {
      "cell_type": "code",
      "source": [
        "if nndarray.sum() != 0 :\n",
        "  if nndarray2().sum() != 0 :\n",
        "    if nndarray.sum() > nndarray2().sum() :\n",
        "      print(\"긍정\")\n",
        "    else:\n",
        "      print(\"부정\")\n",
        "  else:\n",
        "    print(\"긍정\")\n",
        "elif nndarray2().sum() != 0 :\n",
        "  print(\"부정\")\n",
        "else:\n",
        "  print(\"몰?루\")"
      ],
      "metadata": {
        "id": "EWZ8vYzQHnlT"
      },
      "execution_count": null,
      "outputs": []
    },
    {
      "cell_type": "code",
      "source": [
        "from konlpy.tag import Kkma\n",
        "from konlpy.utils import pprint"
      ],
      "metadata": {
        "colab": {
          "base_uri": "https://localhost:8080/",
          "height": 336
        },
        "id": "Zt9JCzxpQ34K",
        "outputId": "9ce8cca7-7a87-499a-94f2-b2dac7a51f68"
      },
      "execution_count": 119,
      "outputs": [
        {
          "output_type": "error",
          "ename": "ModuleNotFoundError",
          "evalue": "ignored",
          "traceback": [
            "\u001b[0;31m---------------------------------------------------------------------------\u001b[0m",
            "\u001b[0;31mModuleNotFoundError\u001b[0m                       Traceback (most recent call last)",
            "\u001b[0;32m<ipython-input-119-9b1cbd8a4dd8>\u001b[0m in \u001b[0;36m<module>\u001b[0;34m()\u001b[0m\n\u001b[0;32m----> 1\u001b[0;31m \u001b[0;32mfrom\u001b[0m \u001b[0mkonlpy\u001b[0m\u001b[0;34m.\u001b[0m\u001b[0mtag\u001b[0m \u001b[0;32mimport\u001b[0m \u001b[0mKkma\u001b[0m\u001b[0;34m\u001b[0m\u001b[0;34m\u001b[0m\u001b[0m\n\u001b[0m\u001b[1;32m      2\u001b[0m \u001b[0;32mfrom\u001b[0m \u001b[0mkonlpy\u001b[0m\u001b[0;34m.\u001b[0m\u001b[0mutils\u001b[0m \u001b[0;32mimport\u001b[0m \u001b[0mpprint\u001b[0m\u001b[0;34m\u001b[0m\u001b[0;34m\u001b[0m\u001b[0m\n",
            "\u001b[0;31mModuleNotFoundError\u001b[0m: No module named 'konlpy'",
            "",
            "\u001b[0;31m---------------------------------------------------------------------------\u001b[0;32m\nNOTE: If your import is failing due to a missing package, you can\nmanually install dependencies using either !pip or !apt.\n\nTo view examples of installing some common dependencies, click the\n\"Open Examples\" button below.\n\u001b[0;31m---------------------------------------------------------------------------\u001b[0m\n"
          ],
          "errorDetails": {
            "actions": [
              {
                "action": "open_url",
                "actionText": "Open Examples",
                "url": "/notebooks/snippets/importing_libraries.ipynb"
              }
            ]
          }
        }
      ]
    },
    {
      "cell_type": "code",
      "source": [
        "x_data = [\"s\"]"
      ],
      "metadata": {
        "id": "eAn0egXBQ0cL"
      },
      "execution_count": null,
      "outputs": []
    },
    {
      "cell_type": "code",
      "source": [
        "for i, document in enumerate(x_data):\n",
        "  okt = konlpy.tag.Okt()\n",
        "  clean_words =[]\n",
        "  for word in okt.pos(document, stem=True): #어간추출\n",
        "    if word[1] not in ['Josa', 'Eomi', 'Punctuation']: #조사, 어미, 구두\n",
        "      clean_words.append(word[0])\n",
        "  print(clean_words)\n",
        "  document = ''.join(clean_words)\n",
        "  print(document)\n",
        "  x_data[i] = document\n",
        "print(x_data)"
      ],
      "metadata": {
        "id": "n787MWcMOwpy"
      },
      "execution_count": null,
      "outputs": []
    }
  ]
}