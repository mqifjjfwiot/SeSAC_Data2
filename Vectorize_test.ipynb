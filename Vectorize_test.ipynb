{
  "nbformat": 4,
  "nbformat_minor": 0,
  "metadata": {
    "colab": {
      "name": "Vectorize-test.ipynb",
      "provenance": [],
      "collapsed_sections": [],
      "authorship_tag": "ABX9TyMbIZ3ZMOceI3qledTh/1nX",
      "include_colab_link": true
    },
    "kernelspec": {
      "name": "python3",
      "display_name": "Python 3"
    },
    "language_info": {
      "name": "python"
    }
  },
  "cells": [
    {
      "cell_type": "markdown",
      "metadata": {
        "id": "view-in-github",
        "colab_type": "text"
      },
      "source": [
        "<a href=\"https://colab.research.google.com/github/mqifjjfwiot/SeSAC_Data2/blob/master/Vectorize_test.ipynb\" target=\"_parent\"><img src=\"https://colab.research.google.com/assets/colab-badge.svg\" alt=\"Open In Colab\"/></a>"
      ]
    },
    {
      "cell_type": "code",
      "execution_count": 1,
      "metadata": {
        "id": "MelmT7_8x0R1"
      },
      "outputs": [],
      "source": [
        "from sklearn.feature_extraction.text import TfidfVectorizer, CountVectorizer"
      ]
    },
    {
      "cell_type": "code",
      "source": [
        "corpus = [\"you know I want your love\",\n",
        "          \"I like you\",\n",
        "          \"what should I do\",\n",
        "          \"I can't build it. Something's in the way\",\n",
        "          \"Roger that\"\n",
        "]"
      ],
      "metadata": {
        "id": "leGa4u65ya5Q"
      },
      "execution_count": 2,
      "outputs": []
    },
    {
      "cell_type": "code",
      "source": [
        "cv = CountVectorizer()"
      ],
      "metadata": {
        "id": "64ZILphTzZRE"
      },
      "execution_count": 4,
      "outputs": []
    },
    {
      "cell_type": "code",
      "source": [
        "#1. 사전을 만들어라! => fit()\n",
        "#2. 사전에 들어있는 id로 인코딩하라! => transform()\n",
        "#3. 1, 2를 함께 처리하고자 하는 경우 => fit_transform()"
      ],
      "metadata": {
        "id": "9ODDpAmczc4o"
      },
      "execution_count": 5,
      "outputs": []
    },
    {
      "cell_type": "code",
      "source": [
        "cv.fit_transform(corpus)"
      ],
      "metadata": {
        "colab": {
          "base_uri": "https://localhost:8080/"
        },
        "id": "B1rc67e305pB",
        "outputId": "e79f63f2-1f63-4d88-a9eb-23aec601dedc"
      },
      "execution_count": 6,
      "outputs": [
        {
          "output_type": "execute_result",
          "data": {
            "text/plain": [
              "<5x18 sparse matrix of type '<class 'numpy.int64'>'\n",
              "\twith 19 stored elements in Compressed Sparse Row format>"
            ]
          },
          "metadata": {},
          "execution_count": 6
        }
      ]
    },
    {
      "cell_type": "code",
      "source": [
        "tfidf= TfidfVectorizer()"
      ],
      "metadata": {
        "id": "vQepnn4701Xb"
      },
      "execution_count": null,
      "outputs": []
    }
  ]
}